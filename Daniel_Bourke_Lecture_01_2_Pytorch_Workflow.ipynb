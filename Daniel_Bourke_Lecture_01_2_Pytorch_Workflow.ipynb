{
  "nbformat": 4,
  "nbformat_minor": 0,
  "metadata": {
    "colab": {
      "provenance": [],
      "authorship_tag": "ABX9TyPGwRH08edNgKjL/q0a5Mtk",
      "include_colab_link": true
    },
    "kernelspec": {
      "name": "python3",
      "display_name": "Python 3"
    },
    "language_info": {
      "name": "python"
    }
  },
  "cells": [
    {
      "cell_type": "markdown",
      "metadata": {
        "id": "view-in-github",
        "colab_type": "text"
      },
      "source": [
        "<a href=\"https://colab.research.google.com/github/Anshul007/PyTorch-for-deep-learning-in-a-day/blob/main/Daniel_Bourke_Lecture_01_2_Pytorch_Workflow.ipynb\" target=\"_parent\"><img src=\"https://colab.research.google.com/assets/colab-badge.svg\" alt=\"Open In Colab\"/></a>"
      ]
    },
    {
      "cell_type": "markdown",
      "source": [
        "> Best video for building neural net from scratch\n",
        "https://www.youtube.com/watch?v=w8yWXqWQYmU"
      ],
      "metadata": {
        "id": "KlbUmTM2FwSQ"
      }
    },
    {
      "cell_type": "markdown",
      "source": [
        "# PyTorch Workflow\n",
        "\n",
        "> PyTorch workflow end-to-end"
      ],
      "metadata": {
        "id": "I-gHIHyZ3JMo"
      }
    },
    {
      "cell_type": "code",
      "source": [
        "import numpy as np\n",
        "from torch import nn\n",
        "\n",
        "import torch"
      ],
      "metadata": {
        "id": "h3-B9jU04DBb"
      },
      "execution_count": null,
      "outputs": []
    },
    {
      "cell_type": "code",
      "source": [
        "what_were_covering = {1: \"data (prepare and load)\",\n",
        "                      2: \"build model\",\n",
        "                      3: \"fitting the model to data (training)\",\n",
        "                      4: \"making predictions and evaluating a model (inference)\",\n",
        "                      5: \"saving and loading a model\",\n",
        "                      6: \"putting it all together\"}"
      ],
      "metadata": {
        "id": "EabcHSyx4HVr"
      },
      "execution_count": null,
      "outputs": []
    },
    {
      "cell_type": "code",
      "source": [
        "# def backward_prop(Z1, A1, Z2, A2, W1, W2, X, Y):\n",
        "#     one_hot_Y = one_hot(Y)\n",
        "#     dZ2 = A2 - one_hot_Y\n",
        "#     dW2 = 1 / m * dZ2.dot(A1.T)\n",
        "#     db2 = 1 / m * np.sum(dZ2)\n",
        "#     dZ1 = W2.T.dot(dZ2) * ReLU_deriv(Z1)\n",
        "#     dW1 = 1 / m * dZ1.dot(X.T)\n",
        "#     db1 = 1 / m * np.sum(dZ1)\n",
        "#     return dW1, db1, dW2, db2"
      ],
      "metadata": {
        "id": "rrJcppzp4oWj"
      },
      "execution_count": null,
      "outputs": []
    },
    {
      "cell_type": "markdown",
      "source": [
        "# Creating Data for linear Regression"
      ],
      "metadata": {
        "id": "cCGMXCzcZAYp"
      }
    },
    {
      "cell_type": "code",
      "source": [
        "# create *known* parameters\n",
        "weight = 0.7\n",
        "bias = 0.3\n",
        "\n",
        "# create data\n",
        "start = 0\n",
        "end = 1\n",
        "step = 0.02\n",
        "\n",
        "X= torch.arange(start,end,step).unsqueeze(dim=1)\n",
        "y = bias + weight * X\n",
        "\n",
        "X[:10], y[:10], len(X), len(y)"
      ],
      "metadata": {
        "colab": {
          "base_uri": "https://localhost:8080/"
        },
        "id": "vyxtAQYDY81z",
        "outputId": "a4a8c5eb-1328-48b1-96b0-4040335786d8"
      },
      "execution_count": null,
      "outputs": [
        {
          "output_type": "execute_result",
          "data": {
            "text/plain": [
              "(tensor([[0.0000],\n",
              "         [0.0200],\n",
              "         [0.0400],\n",
              "         [0.0600],\n",
              "         [0.0800],\n",
              "         [0.1000],\n",
              "         [0.1200],\n",
              "         [0.1400],\n",
              "         [0.1600],\n",
              "         [0.1800]]),\n",
              " tensor([[0.3000],\n",
              "         [0.3140],\n",
              "         [0.3280],\n",
              "         [0.3420],\n",
              "         [0.3560],\n",
              "         [0.3700],\n",
              "         [0.3840],\n",
              "         [0.3980],\n",
              "         [0.4120],\n",
              "         [0.4260]]),\n",
              " 50,\n",
              " 50)"
            ]
          },
          "metadata": {},
          "execution_count": 4
        }
      ]
    },
    {
      "cell_type": "markdown",
      "source": [
        "### Splitting data into training and testing"
      ],
      "metadata": {
        "id": "AIlV5rEVbKx7"
      }
    },
    {
      "cell_type": "code",
      "source": [
        "train_split = int(.8 * len(X))\n",
        "\n",
        "X_train, y_train = X[:train_split], y[:train_split]\n",
        "X_test, y_test = X[train_split:], y[train_split:]\n",
        "\n",
        "len(X_train), len(y_train), len(X_test), len(y_test)"
      ],
      "metadata": {
        "colab": {
          "base_uri": "https://localhost:8080/"
        },
        "id": "ZAM4mLqwZxwD",
        "outputId": "d963bb00-3cd5-47d1-baba-b5362c2f0a0f"
      },
      "execution_count": null,
      "outputs": [
        {
          "output_type": "execute_result",
          "data": {
            "text/plain": [
              "(40, 40, 10, 10)"
            ]
          },
          "metadata": {},
          "execution_count": 5
        }
      ]
    },
    {
      "cell_type": "code",
      "source": [
        "import matplotlib\n",
        "%matplotlib inline\n",
        "\n",
        "from matplotlib import pyplot as plt"
      ],
      "metadata": {
        "id": "pnm71GQS8T6J"
      },
      "execution_count": null,
      "outputs": []
    },
    {
      "cell_type": "markdown",
      "source": [
        "> Visualizing the data"
      ],
      "metadata": {
        "id": "DNJ9M8t6-IPt"
      }
    },
    {
      "cell_type": "code",
      "source": [
        "def plot_prediction(train_data = X_train,\n",
        "                    train_labels = y_train,\n",
        "                    test_data= X_test,\n",
        "                    test_labels= y_test,\n",
        "                    prediction= None):\n",
        "  # plotting training and testing data and compare prediction\n",
        "  plt.figure(figsize= (10,7))\n",
        "  plt.scatter(train_data, train_labels,c=\"b\" ,s=4, label= \"Training Data Prediction\")\n",
        "\n",
        "  plt.scatter(test_data, test_labels,c=\"g\",s=4, label= \"Testing Data Prediction\")\n",
        "\n",
        "  # plot prediction\n",
        "  if prediction is not None:\n",
        "    plt.scatter(test_data, prediction, c=\"r\", s=4, label= \"Predictions\")\n",
        "\n",
        "  plt.legend(prop= {\"size\" : 14})\n",
        "\n",
        "# calling the visualization function\n",
        "plot_prediction()"
      ],
      "metadata": {
        "colab": {
          "base_uri": "https://localhost:8080/",
          "height": 599
        },
        "id": "x6eJxjhs-pdq",
        "outputId": "d3638471-d004-44aa-d133-64e8d1e30cfc"
      },
      "execution_count": null,
      "outputs": [
        {
          "output_type": "display_data",
          "data": {
            "text/plain": [
              "<Figure size 1000x700 with 1 Axes>"
            ],
            "image/png": "[encoded data removed]"
          },
          "metadata": {}
        }
      ]
    },
    {
      "cell_type": "markdown",
      "source": [
        "## Building Model\n",
        "> Busing our first pytorch model"
      ],
      "metadata": {
        "id": "gfSLAg-ICFRc"
      }
    },
    {
      "cell_type": "code",
      "source": [
        "# create linear regression model class\n",
        "class LinearRegression(nn.Module):\n",
        "\n",
        "  def __init__(self):\n",
        "    super().__init__()\n",
        "    self.weight = nn.Parameter(torch.randn(1,\n",
        "                                            requires_grad=True,\n",
        "                                            dtype= float))\n",
        "    self.bias = nn.Parameter(torch.randn(1,\n",
        "                                         requires_grad= True,\n",
        "                                         dtype = float))\n",
        "\n",
        "  # Forward method to define the computation in the model\n",
        "  def forward(self, x: torch.tensor):\n",
        "    return self.bias + self.weight * x # This is the regression formula"
      ],
      "metadata": {
        "id": "B-zkyPyp9vqB"
      },
      "execution_count": null,
      "outputs": []
    },
    {
      "cell_type": "markdown",
      "source": [
        "> if you are using the `nn.Module` then we must overrite forward function"
      ],
      "metadata": {
        "id": "Mak_DEHaGpMq"
      }
    },
    {
      "cell_type": "markdown",
      "source": [
        "### PyTorch model building essentials\n",
        "\n",
        "* torch.nn - contains all the buildings for computational graphs (aka neural network)\n",
        "* torch.nn.Parameter - What parameter should our model try and learn.\n",
        "* torch.nn.Module - The base class for all the neural network models, if you subcalss it you should overrite this.\n",
        "* torch.optim - This is where the optimizer in PyTorch live. This will help gradient descent."
      ],
      "metadata": {
        "id": "CZxsC6b_ITu7"
      }
    },
    {
      "cell_type": "code",
      "source": [
        "## Create a random seed\n",
        "torch.manual_seed(42)\n",
        "\n",
        "# instance of the model\n",
        "model_0 = LinearRegression()\n",
        "\n",
        "# checking what's inside the object\n",
        "list(model_0.parameters())"
      ],
      "metadata": {
        "colab": {
          "base_uri": "https://localhost:8080/"
        },
        "id": "_1BaI_Yo94T4",
        "outputId": "5fd847ba-09a5-4279-ca0c-a3e1574c3883"
      },
      "execution_count": null,
      "outputs": [
        {
          "output_type": "execute_result",
          "data": {
            "text/plain": [
              "[Parameter containing:\n",
              " tensor([0.3367], dtype=torch.float64, requires_grad=True),\n",
              " Parameter containing:\n",
              " tensor([0.1288], dtype=torch.float64, requires_grad=True)]"
            ]
          },
          "metadata": {},
          "execution_count": 9
        }
      ]
    },
    {
      "cell_type": "code",
      "source": [
        "model_0.state_dict()"
      ],
      "metadata": {
        "colab": {
          "base_uri": "https://localhost:8080/"
        },
        "id": "hBmYxMNuCvgU",
        "outputId": "2ecd0d46-d528-4027-f99d-59182943075a"
      },
      "execution_count": null,
      "outputs": [
        {
          "output_type": "execute_result",
          "data": {
            "text/plain": [
              "OrderedDict([('weight', tensor([0.3367], dtype=torch.float64)),\n",
              "             ('bias', tensor([0.1288], dtype=torch.float64))])"
            ]
          },
          "metadata": {},
          "execution_count": 10
        }
      ]
    },
    {
      "cell_type": "markdown",
      "source": [
        "### Making prediction usinh `torch.infrence_mode()`\n",
        " Let's see how well model predict `y_test` based on `X_test`"
      ],
      "metadata": {
        "id": "RTMSyLDlOO36"
      }
    },
    {
      "cell_type": "code",
      "source": [
        "with torch.inference_mode(): # inference is aka predictions\n",
        "  y_preds = model_0(X_test)\n",
        "\n",
        "y_preds"
      ],
      "metadata": {
        "colab": {
          "base_uri": "https://localhost:8080/"
        },
        "id": "cHiOmffKNP_M",
        "outputId": "c7274d09-6d5e-4c00-e395-84b743539df6"
      },
      "execution_count": null,
      "outputs": [
        {
          "output_type": "execute_result",
          "data": {
            "text/plain": [
              "tensor([[0.3982],\n",
              "        [0.4049],\n",
              "        [0.4116],\n",
              "        [0.4184],\n",
              "        [0.4251],\n",
              "        [0.4318],\n",
              "        [0.4386],\n",
              "        [0.4453],\n",
              "        [0.4520],\n",
              "        [0.4588]], dtype=torch.float64)"
            ]
          },
          "metadata": {},
          "execution_count": 11
        }
      ]
    },
    {
      "cell_type": "code",
      "source": [
        "plot_prediction(prediction= y_preds)"
      ],
      "metadata": {
        "colab": {
          "base_uri": "https://localhost:8080/",
          "height": 599
        },
        "id": "MOxgTpc4OD5W",
        "outputId": "11dcb5b3-8d12-4e9a-a760-4a4f3e9c3c80"
      },
      "execution_count": null,
      "outputs": [
        {
          "output_type": "display_data",
          "data": {
            "text/plain": [
              "<Figure size 1000x700 with 1 Axes>"
            ],
            "image/png": "[encoded data removed]"
          },
          "metadata": {}
        }
      ]
    },
    {
      "cell_type": "markdown",
      "source": [
        "## Training Model\n",
        "\n",
        "\n",
        "-----\n",
        "This we need to train\n",
        "* **Loss function:** How much far model are from the actual values.\n",
        "* **Optimizer:** Takes into account the models loss and update the model's parameters to improve the loss.\n",
        "\n",
        "> Lower the loss, better the model is."
      ],
      "metadata": {
        "id": "DLYFrFnKR6Sc"
      }
    },
    {
      "cell_type": "code",
      "source": [
        "# defining loss function\n",
        "loss_fnct = nn.L1Loss()\n",
        "loss_fnct(y_preds,y_test)\n",
        "\n",
        "# defining optimizer\n",
        "optimizer = torch.optim.SGD(params= model_0.parameters(),\n",
        "                            lr= 0.01) # leanring rate"
      ],
      "metadata": {
        "id": "Z-Kz2wEFQCS3"
      },
      "execution_count": null,
      "outputs": []
    },
    {
      "cell_type": "markdown",
      "source": [
        "## Building the training loop and testing loop"
      ],
      "metadata": {
        "id": "8JaatkKvnjZw"
      }
    },
    {
      "cell_type": "code",
      "source": [
        "# an epoch is one loop through the data\n",
        "epochs = 1\n",
        "\n",
        "for epoch in range(epochs):\n",
        "  # set model to training mode\n",
        "  model_0.train() # train mode in pytorch set all the parameters that require gradients\n",
        "\n",
        "  # 1. forward pass\n",
        "  y_pred = model_0(X_train)\n",
        "\n",
        "  # 2. calculate loss\n",
        "  loss = loss_fnct(y_pred, y_train)\n",
        "  print(f\"loss {loss}\")\n",
        "\n",
        "  # 3. optimizer zero grad\n",
        "  optimizer.zero_grad()\n",
        "\n",
        "  # 4. perform back propagation\n",
        "  loss.backward()\n",
        "\n",
        "  # 5. step the optimizer (to perform the gradient descent)\n",
        "  optimizer.step()\n",
        "\n",
        "  # turns off the gradient tracking\n",
        "  model_0.eval()\n",
        "\n",
        "  # model's state\n",
        "  print(model_0.state_dict())"
      ],
      "metadata": {
        "colab": {
          "base_uri": "https://localhost:8080/"
        },
        "id": "DXOOsGvVVtQP",
        "outputId": "36948082-8485-40cb-886f-56b20da67797"
      },
      "execution_count": null,
      "outputs": [
        {
          "output_type": "stream",
          "name": "stdout",
          "text": [
            "loss 0.31288135683755547\n",
            "OrderedDict([('weight', tensor([0.3406], dtype=torch.float64)), ('bias', tensor([0.1388], dtype=torch.float64))])\n"
          ]
        }
      ]
    },
    {
      "cell_type": "code",
      "source": [],
      "metadata": {
        "id": "d1RNBzUQJg5f"
      },
      "execution_count": null,
      "outputs": []
    },
    {
      "cell_type": "code",
      "source": [
        "model_0.state_dict()"
      ],
      "metadata": {
        "colab": {
          "base_uri": "https://localhost:8080/"
        },
        "id": "-p1OGqrLIXfy",
        "outputId": "738c4184-d491-4032-af55-e465738d1cb4"
      },
      "execution_count": null,
      "outputs": [
        {
          "output_type": "execute_result",
          "data": {
            "text/plain": [
              "OrderedDict([('weight', tensor([0.3406], dtype=torch.float64)),\n",
              "             ('bias', tensor([0.1388], dtype=torch.float64))])"
            ]
          },
          "metadata": {},
          "execution_count": 15
        }
      ]
    },
    {
      "cell_type": "code",
      "source": [
        "# older version\n",
        "model_0.state_dict()"
      ],
      "metadata": {
        "colab": {
          "base_uri": "https://localhost:8080/"
        },
        "id": "pa_D5cZaIKVG",
        "outputId": "9fda558b-6349-4364-b0c1-ace788b9c204"
      },
      "execution_count": null,
      "outputs": [
        {
          "output_type": "execute_result",
          "data": {
            "text/plain": [
              "OrderedDict([('weight', tensor([0.3406], dtype=torch.float64)),\n",
              "             ('bias', tensor([0.1388], dtype=torch.float64))])"
            ]
          },
          "metadata": {},
          "execution_count": 16
        }
      ]
    },
    {
      "cell_type": "code",
      "source": [
        "with torch.inference_mode():\n",
        "  y_pred_new = model_0(X_test)"
      ],
      "metadata": {
        "id": "xzdA0wQUIOqe"
      },
      "execution_count": null,
      "outputs": []
    },
    {
      "cell_type": "code",
      "source": [
        "plot_prediction(prediction= y_pred_new)"
      ],
      "metadata": {
        "colab": {
          "base_uri": "https://localhost:8080/",
          "height": 599
        },
        "id": "0wbpUv9EKKSX",
        "outputId": "8f17db4e-5c72-4b3b-a3eb-eced0c4ba9d7"
      },
      "execution_count": null,
      "outputs": [
        {
          "output_type": "display_data",
          "data": {
            "text/plain": [
              "<Figure size 1000x700 with 1 Axes>"
            ],
            "image/png": "[encoded data removed]"
          },
          "metadata": {}
        }
      ]
    },
    {
      "cell_type": "markdown",
      "source": [
        "### Adding testing code in training loop"
      ],
      "metadata": {
        "id": "drM5NgMFLF7g"
      }
    },
    {
      "cell_type": "code",
      "source": [
        "# an epoch is one loop through the data\n",
        "epochs = 200\n",
        "epoch_counts = []\n",
        "train_losses = []\n",
        "test_losses = []\n",
        "\n",
        "for epoch in range(epochs):\n",
        "  # set model to training mode\n",
        "  model_0.train() # train mode in pytorch set all the parameters that require gradients\n",
        "\n",
        "  # 1. forward pass\n",
        "  y_pred = model_0(X_train)\n",
        "\n",
        "  # 2. calculate loss\n",
        "  loss = loss_fnct(y_pred, y_train)\n",
        "  # print(f\"loss {loss}\")\n",
        "\n",
        "  # 3. optimizer zero grad\n",
        "  optimizer.zero_grad()\n",
        "\n",
        "  # 4. perform back propagation\n",
        "  loss.backward()\n",
        "\n",
        "  # 5. step the optimizer (to perform the gradient descent)\n",
        "  optimizer.step()\n",
        "\n",
        "  # turns off the gradient tracking\n",
        "  model_0.eval() # Turns off different setting in the model not needed for evaluation/testing (dropout and batchnorm layer).\n",
        "\n",
        "  with torch.inference_mode(): # it turns of radient tracking\n",
        "    # 1. forward pass\n",
        "    test_pred = model_0(X_test)\n",
        "\n",
        "    # 2. calculate the loss\n",
        "    test_loss = loss_fnct(test_pred, y_test)\n",
        "\n",
        "  if epoch % 10 == 0:\n",
        "    print(f\"Epoch: {epoch} | Loss: {loss} | Test Loss: {test_loss}\")\n",
        "    epoch_counts.append(epoch)\n",
        "    train_losses.append(loss)\n",
        "    test_losses.append(test_loss)\n",
        "\n",
        "    # model's state\n",
        "    print(model_0.state_dict())\n",
        "    print(\"--\"*20)"
      ],
      "metadata": {
        "colab": {
          "base_uri": "https://localhost:8080/"
        },
        "id": "VHwxwu4LKNRK",
        "outputId": "a7640583-ce54-4692-b85f-7b2a6c491c46"
      },
      "execution_count": null,
      "outputs": [
        {
          "output_type": "stream",
          "name": "stdout",
          "text": [
            "Epoch: 0 | Loss: 0.30136035690119084 | Test Loss: 0.4675941841894923\n",
            "OrderedDict([('weight', tensor([0.3445], dtype=torch.float64)), ('bias', tensor([0.1488], dtype=torch.float64))])\n",
            "----------------------------------------\n",
            "Epoch: 10 | Loss: 0.18615035753754472 | Test Loss: 0.3328841845436553\n",
            "OrderedDict([('weight', tensor([0.3835], dtype=torch.float64)), ('bias', tensor([0.2488], dtype=torch.float64))])\n",
            "----------------------------------------\n",
            "Epoch: 20 | Loss: 0.08227578243637819 | Test Loss: 0.2069589848961622\n",
            "OrderedDict([('weight', tensor([0.4222], dtype=torch.float64)), ('bias', tensor([0.3403], dtype=torch.float64))])\n",
            "----------------------------------------\n",
            "Epoch: 30 | Loss: 0.05181942307044729 | Test Loss: 0.14023708522621853\n",
            "OrderedDict([('weight', tensor([0.4539], dtype=torch.float64)), ('bias', tensor([0.3788], dtype=torch.float64))])\n",
            "----------------------------------------\n",
            "Epoch: 40 | Loss: 0.045037931034514214 | Test Loss: 0.1118293854686619\n",
            "OrderedDict([('weight', tensor([0.4768], dtype=torch.float64)), ('bias', tensor([0.3868], dtype=torch.float64))])\n",
            "----------------------------------------\n",
            "Epoch: 50 | Loss: 0.04132960649596273 | Test Loss: 0.09809738571972407\n",
            "OrderedDict([('weight', tensor([0.4956], dtype=torch.float64)), ('bias', tensor([0.3838], dtype=torch.float64))])\n",
            "----------------------------------------\n",
            "Epoch: 60 | Loss: 0.037852406672108964 | Test Loss: 0.08776428598519262\n",
            "OrderedDict([('weight', tensor([0.5134], dtype=torch.float64)), ('bias', tensor([0.3783], dtype=torch.float64))])\n",
            "----------------------------------------\n",
            "Epoch: 70 | Loss: 0.03441360684159326 | Test Loss: 0.07949188623916349\n",
            "OrderedDict([('weight', tensor([0.5306], dtype=torch.float64)), ('bias', tensor([0.3713], dtype=torch.float64))])\n",
            "----------------------------------------\n",
            "Epoch: 80 | Loss: 0.030979605155552075 | Test Loss: 0.07190638648930181\n",
            "OrderedDict([('weight', tensor([0.5475], dtype=torch.float64)), ('bias', tensor([0.3638], dtype=torch.float64))])\n",
            "----------------------------------------\n",
            "Epoch: 90 | Loss: 0.027548807178341222 | Test Loss: 0.06363398674327261\n",
            "OrderedDict([('weight', tensor([0.5647], dtype=torch.float64)), ('bias', tensor([0.3568], dtype=torch.float64))])\n",
            "----------------------------------------\n",
            "Epoch: 100 | Loss: 0.024110007347825514 | Test Loss: 0.05536158699724347\n",
            "OrderedDict([('weight', tensor([0.5818], dtype=torch.float64)), ('bias', tensor([0.3498], dtype=torch.float64))])\n",
            "----------------------------------------\n",
            "Epoch: 110 | Loss: 0.02067767559874483 | Test Loss: 0.04777608724738177\n",
            "OrderedDict([('weight', tensor([0.5988], dtype=torch.float64)), ('bias', tensor([0.3423], dtype=torch.float64))])\n",
            "----------------------------------------\n",
            "Epoch: 120 | Loss: 0.017245207684573466 | Test Loss: 0.039503687501352545\n",
            "OrderedDict([('weight', tensor([0.6159], dtype=torch.float64)), ('bias', tensor([0.3353], dtype=torch.float64))])\n",
            "----------------------------------------\n",
            "Epoch: 130 | Loss: 0.013806407854057762 | Test Loss: 0.031231287755323422\n",
            "OrderedDict([('weight', tensor([0.6331], dtype=torch.float64)), ('bias', tensor([0.3283], dtype=torch.float64))])\n",
            "----------------------------------------\n",
            "Epoch: 140 | Loss: 0.010375746041937575 | Test Loss: 0.023645788005461764\n",
            "OrderedDict([('weight', tensor([0.6501], dtype=torch.float64)), ('bias', tensor([0.3208], dtype=torch.float64))])\n",
            "----------------------------------------\n",
            "Epoch: 150 | Loss: 0.006941608190805723 | Test Loss: 0.015373388259432607\n",
            "OrderedDict([('weight', tensor([0.6672], dtype=torch.float64)), ('bias', tensor([0.3138], dtype=torch.float64))])\n",
            "----------------------------------------\n",
            "Epoch: 160 | Loss: 0.003502808360290019 | Test Loss: 0.00710098851340345\n",
            "OrderedDict([('weight', tensor([0.6844], dtype=torch.float64)), ('bias', tensor([0.3068], dtype=torch.float64))])\n",
            "----------------------------------------\n",
            "Epoch: 170 | Loss: 0.0025897632540065967 | Test Loss: 0.008446411294987088\n",
            "OrderedDict([('weight', tensor([0.6990], dtype=torch.float64)), ('bias', tensor([0.3093], dtype=torch.float64))])\n",
            "----------------------------------------\n",
            "Epoch: 180 | Loss: 0.0025897632540065967 | Test Loss: 0.008446411294987088\n",
            "OrderedDict([('weight', tensor([0.6990], dtype=torch.float64)), ('bias', tensor([0.3093], dtype=torch.float64))])\n",
            "----------------------------------------\n",
            "Epoch: 190 | Loss: 0.0025897632540065967 | Test Loss: 0.008446411294987088\n",
            "OrderedDict([('weight', tensor([0.6990], dtype=torch.float64)), ('bias', tensor([0.3093], dtype=torch.float64))])\n",
            "----------------------------------------\n"
          ]
        }
      ]
    },
    {
      "cell_type": "code",
      "source": [
        "with torch.inference_mode():\n",
        "  y_pred_new = model_0(X_test)"
      ],
      "metadata": {
        "id": "xC86hPl1PC7s"
      },
      "execution_count": null,
      "outputs": []
    },
    {
      "cell_type": "code",
      "source": [
        "plot_prediction(prediction= y_pred_new)"
      ],
      "metadata": {
        "colab": {
          "base_uri": "https://localhost:8080/",
          "height": 599
        },
        "id": "PzGQbBpyP6Ki",
        "outputId": "cde775dc-7ad1-48a3-a0c1-40fc4f907a60"
      },
      "execution_count": null,
      "outputs": [
        {
          "output_type": "display_data",
          "data": {
            "text/plain": [
              "<Figure size 1000x700 with 1 Axes>"
            ],
            "image/png": "[encoded data removed]"
          },
          "metadata": {}
        }
      ]
    },
    {
      "cell_type": "code",
      "source": [
        "# np.array(torch.tensor(train_losses)) # this also works\n",
        "list(torch.tensor(train_losses))"
      ],
      "metadata": {
        "colab": {
          "base_uri": "https://localhost:8080/"
        },
        "id": "UgmR6LoJULnp",
        "outputId": "1b7d894e-7297-4d16-9a73-7a8618341213"
      },
      "execution_count": null,
      "outputs": [
        {
          "output_type": "execute_result",
          "data": {
            "text/plain": [
              "[tensor(0.3014, dtype=torch.float64),\n",
              " tensor(0.1862, dtype=torch.float64),\n",
              " tensor(0.0823, dtype=torch.float64),\n",
              " tensor(0.0518, dtype=torch.float64),\n",
              " tensor(0.0450, dtype=torch.float64),\n",
              " tensor(0.0413, dtype=torch.float64),\n",
              " tensor(0.0379, dtype=torch.float64),\n",
              " tensor(0.0344, dtype=torch.float64),\n",
              " tensor(0.0310, dtype=torch.float64),\n",
              " tensor(0.0275, dtype=torch.float64),\n",
              " tensor(0.0241, dtype=torch.float64),\n",
              " tensor(0.0207, dtype=torch.float64),\n",
              " tensor(0.0172, dtype=torch.float64),\n",
              " tensor(0.0138, dtype=torch.float64),\n",
              " tensor(0.0104, dtype=torch.float64),\n",
              " tensor(0.0069, dtype=torch.float64),\n",
              " tensor(0.0035, dtype=torch.float64),\n",
              " tensor(0.0026, dtype=torch.float64),\n",
              " tensor(0.0026, dtype=torch.float64),\n",
              " tensor(0.0026, dtype=torch.float64)]"
            ]
          },
          "metadata": {},
          "execution_count": 22
        }
      ]
    },
    {
      "cell_type": "code",
      "source": [
        "# plot the loss curve\n",
        "plt.plot(epoch_counts, np.array(torch.tensor(train_losses)), label= \"Train Loss\")\n",
        "plt.plot(epoch_counts, test_losses, label= \"Test Loss\")\n",
        "plt.title(\"Train and Testing curve\")\n",
        "plt.legend()\n",
        "plt.show()"
      ],
      "metadata": {
        "colab": {
          "base_uri": "https://localhost:8080/",
          "height": 452
        },
        "id": "MuwI5HqUP_JT",
        "outputId": "9d53b04d-7366-4bf6-9db0-ef31ba188f99"
      },
      "execution_count": null,
      "outputs": [
        {
          "output_type": "display_data",
          "data": {
            "text/plain": [
              "<Figure size 640x480 with 1 Axes>"
            ],
            "image/png": "[encoded data removed]"
          },
          "metadata": {}
        }
      ]
    },
    {
      "cell_type": "markdown",
      "source": [
        "## Saving a model in PyTorch\n",
        "\n",
        "1. `torch.save()` - allows you to save a PyTorch object in pyton's pickel format.\n",
        "2. `torch.load()` - allows you to load already saved model.\n",
        "3. `torch.nn.Module.load_state_dict()` - This allows to load a model's saved state dictionary."
      ],
      "metadata": {
        "id": "Ld6-9vZybBzs"
      }
    },
    {
      "cell_type": "code",
      "source": [
        "# Saving our PyTorch model\n",
        "from pathlib import Path\n",
        "\n",
        "# 1. create model dictonary\n",
        "model_path = Path(\"models\")\n",
        "model_path.mkdir(parents= True, exist_ok= True)\n",
        "\n",
        "# 2. create a model save path\n",
        "model_name = \"02_Pytorch Workflow_model_0.pth\"\n",
        "model_save_path = model_path / model_name\n",
        "\n",
        "# 3. save the model state dict\n",
        "print(f\"Saving in this location {model_save_path}\")\n",
        "torch.save(obj= model_0.state_dict(), f= model_save_path)"
      ],
      "metadata": {
        "colab": {
          "base_uri": "https://localhost:8080/"
        },
        "id": "2Ce6d_UQVN5v",
        "outputId": "bcbda484-1173-4137-9821-7902f9b7c11f"
      },
      "execution_count": null,
      "outputs": [
        {
          "output_type": "stream",
          "name": "stdout",
          "text": [
            "Saving in this location models/02_Pytorch Workflow_model_0.pth\n"
          ]
        }
      ]
    },
    {
      "cell_type": "markdown",
      "source": [
        "## Loading the model"
      ],
      "metadata": {
        "id": "kzF1b2--gtCY"
      }
    },
    {
      "cell_type": "code",
      "source": [
        "# saved_model = torch.load(model_save_path)\n",
        "# saved_model"
      ],
      "metadata": {
        "id": "9Q7OAGPLfPAV"
      },
      "execution_count": null,
      "outputs": []
    },
    {
      "cell_type": "code",
      "source": [
        "# creating a fresh model's object\n",
        "model_0_1 = LinearRegression()\n",
        "\n",
        "print(f\"Before {model_0_1.state_dict()}\")\n",
        "\n",
        "# load the save state and check the new state\n",
        "model_0_1.load_state_dict(torch.load(f=model_save_path))"
      ],
      "metadata": {
        "colab": {
          "base_uri": "https://localhost:8080/"
        },
        "id": "v6cj9q8dg2pL",
        "outputId": "f860edd2-4f5e-4f0b-9ae0-fff23b0119d7"
      },
      "execution_count": null,
      "outputs": [
        {
          "output_type": "stream",
          "name": "stdout",
          "text": [
            "Before OrderedDict([('weight', tensor([0.2345], dtype=torch.float64)), ('bias', tensor([0.2303], dtype=torch.float64))])\n"
          ]
        },
        {
          "output_type": "stream",
          "name": "stderr",
          "text": [
            "<ipython-input-26-e4d7f2952733>:7: FutureWarning: You are using `torch.load` with `weights_only=False` (the current default value), which uses the default pickle module implicitly. It is possible to construct malicious pickle data which will execute arbitrary code during unpickling (See https://github.com/pytorch/pytorch/blob/main/SECURITY.md#untrusted-models for more details). In a future release, the default value for `weights_only` will be flipped to `True`. This limits the functions that could be executed during unpickling. Arbitrary objects will no longer be allowed to be loaded via this mode unless they are explicitly allowlisted by the user via `torch.serialization.add_safe_globals`. We recommend you start setting `weights_only=True` for any use case where you don't have full control of the loaded file. Please open an issue on GitHub for any issues related to this experimental feature.\n",
            "  model_0_1.load_state_dict(torch.load(f=model_save_path))\n"
          ]
        },
        {
          "output_type": "execute_result",
          "data": {
            "text/plain": [
              "<All keys matched successfully>"
            ]
          },
          "metadata": {},
          "execution_count": 26
        }
      ]
    },
    {
      "cell_type": "code",
      "source": [
        "print(f\"After {model_0_1.state_dict()}\")"
      ],
      "metadata": {
        "colab": {
          "base_uri": "https://localhost:8080/"
        },
        "id": "poYZi0emipMA",
        "outputId": "392c6418-fc0c-4da9-fb5c-c522163088ed"
      },
      "execution_count": null,
      "outputs": [
        {
          "output_type": "stream",
          "name": "stdout",
          "text": [
            "After OrderedDict([('weight', tensor([0.6951], dtype=torch.float64)), ('bias', tensor([0.2993], dtype=torch.float64))])\n"
          ]
        }
      ]
    },
    {
      "cell_type": "code",
      "source": [
        "# now let's make some predictions with new loaded model\n",
        "model_0_1.eval()\n",
        "with torch.inference_mode():\n",
        "  loaded_model_preds = model_0_1(X_test)\n",
        "\n",
        "loaded_model_preds"
      ],
      "metadata": {
        "colab": {
          "base_uri": "https://localhost:8080/"
        },
        "id": "fH4eixXnjMfv",
        "outputId": "a35b6881-f8f7-4204-fcb6-4b7e71ce4c7c"
      },
      "execution_count": null,
      "outputs": [
        {
          "output_type": "execute_result",
          "data": {
            "text/plain": [
              "tensor([[0.8554],\n",
              "        [0.8693],\n",
              "        [0.8832],\n",
              "        [0.8971],\n",
              "        [0.9110],\n",
              "        [0.9249],\n",
              "        [0.9388],\n",
              "        [0.9527],\n",
              "        [0.9666],\n",
              "        [0.9805]], dtype=torch.float64)"
            ]
          },
          "metadata": {},
          "execution_count": 28
        }
      ]
    },
    {
      "cell_type": "code",
      "source": [
        "# just checking\n",
        "test_pred == loaded_model_preds"
      ],
      "metadata": {
        "colab": {
          "base_uri": "https://localhost:8080/"
        },
        "id": "xANo0fXKlA2D",
        "outputId": "8dd0f6ce-1a8c-4ab4-cc68-3188b9855634"
      },
      "execution_count": null,
      "outputs": [
        {
          "output_type": "execute_result",
          "data": {
            "text/plain": [
              "tensor([[True],\n",
              "        [True],\n",
              "        [True],\n",
              "        [True],\n",
              "        [True],\n",
              "        [True],\n",
              "        [True],\n",
              "        [True],\n",
              "        [True],\n",
              "        [True]])"
            ]
          },
          "metadata": {},
          "execution_count": 29
        }
      ]
    },
    {
      "cell_type": "markdown",
      "source": [
        "# 6. Putting it all Together"
      ],
      "metadata": {
        "id": "I_RGfi7_nACC"
      }
    },
    {
      "cell_type": "code",
      "source": [
        "import numpy as np\n",
        "import torch\n",
        "from torch import nn\n",
        "from matplotlib import pyplot as plt\n",
        "\n",
        "torch.__version__"
      ],
      "metadata": {
        "colab": {
          "base_uri": "https://localhost:8080/",
          "height": 35
        },
        "id": "UulydjfllHyj",
        "outputId": "fdafe84b-4475-420d-eaa1-a8ab5dcf409f"
      },
      "execution_count": null,
      "outputs": [
        {
          "output_type": "execute_result",
          "data": {
            "text/plain": [
              "'2.4.1+cu121'"
            ],
            "application/vnd.google.colaboratory.intrinsic+json": {
              "type": "string"
            }
          },
          "metadata": {},
          "execution_count": 30
        }
      ]
    },
    {
      "cell_type": "code",
      "source": [
        "# creating device acgnostic code\n",
        "device = \"cuda\" if torch.cuda.is_available() else \"cpu\"\n",
        "print(f\"Using device {device}\")"
      ],
      "metadata": {
        "colab": {
          "base_uri": "https://localhost:8080/"
        },
        "id": "d_wDKvOZM4a3",
        "outputId": "570cd91d-4dcb-4454-e51e-b5ffcc28df3e"
      },
      "execution_count": null,
      "outputs": [
        {
          "output_type": "stream",
          "name": "stdout",
          "text": [
            "Using device cpu\n"
          ]
        }
      ]
    },
    {
      "cell_type": "markdown",
      "source": [
        "## 1. Data"
      ],
      "metadata": {
        "id": "c40KpQUTS8nC"
      }
    },
    {
      "cell_type": "code",
      "source": [
        "# create some data using linear regression\n",
        "weight = 0.7\n",
        "bias = 0.3\n",
        "\n",
        "# create a range value\n",
        "start =0\n",
        "end= 1\n",
        "step =0.02\n",
        "\n",
        "# create X and y\n",
        "X = torch.arange(start, end, step).unsqueeze(dim=1)\n",
        "y = bias + weight * X\n",
        "\n",
        "# plt.plot(X)\n",
        "# plt.plot(y)\n",
        "\n",
        "# creating a training and test split\n",
        "split_pct = int(.8 * len(X))\n",
        "X_train, y_train = X[:split_pct], y[:split_pct]\n",
        "X_test, y_test = X[split_pct:],y[split_pct:]\n",
        "\n",
        "plot_prediction(X_train, y_train, X_test, y_test) # printing the train and test"
      ],
      "metadata": {
        "colab": {
          "base_uri": "https://localhost:8080/",
          "height": 599
        },
        "id": "o2OEvosYNlHC",
        "outputId": "e3f4bbef-ac7f-4a45-def5-362a0caab23c"
      },
      "execution_count": null,
      "outputs": [
        {
          "output_type": "display_data",
          "data": {
            "text/plain": [
              "<Figure size 1000x700 with 1 Axes>"
            ],
            "image/png": "[encoded data removed]"
          },
          "metadata": {}
        }
      ]
    },
    {
      "cell_type": "markdown",
      "source": [
        "## 2. Building the PyTorch linear model"
      ],
      "metadata": {
        "id": "VmAuqywcTA5j"
      }
    },
    {
      "cell_type": "code",
      "source": [
        "# create a linear model by subclassing nn.Module\n",
        "class LinearRegression1V2(nn.Module):\n",
        "  def __init__(self):\n",
        "    super().__init__()\n",
        "    weight\n",
        "    # use nn.Linear() for creating the model's parameter (like weight bias and the linear regreassion formula as well.)\n",
        "    self.linear_layer = nn.Linear(in_features= 1,\n",
        "                                  out_features= 1)\n",
        "  def forward(self, x: torch.tensor):\n",
        "    return self.linear_layer(x)\n",
        "\n",
        "# setting manuall seed\n",
        "torch.manual_seed(42)\n",
        "# creating model object\n",
        "model_1 = LinearRegression1V2()\n",
        "model_1, model_1.state_dict()"
      ],
      "metadata": {
        "colab": {
          "base_uri": "https://localhost:8080/"
        },
        "id": "fgebb5RjRd2Q",
        "outputId": "9ce8cfbf-e38d-47fe-dc58-f1835c752020"
      },
      "execution_count": null,
      "outputs": [
        {
          "output_type": "execute_result",
          "data": {
            "text/plain": [
              "(LinearRegression1V2(\n",
              "   (linear_layer): Linear(in_features=1, out_features=1, bias=True)\n",
              " ),\n",
              " OrderedDict([('linear_layer.weight', tensor([[0.7645]])),\n",
              "              ('linear_layer.bias', tensor([0.8300]))]))"
            ]
          },
          "metadata": {},
          "execution_count": 45
        }
      ]
    },
    {
      "cell_type": "code",
      "source": [
        "# check the device\n",
        "device, next(model_1.parameters()).device"
      ],
      "metadata": {
        "colab": {
          "base_uri": "https://localhost:8080/"
        },
        "id": "aFn71zacQvdi",
        "outputId": "728aee7d-2e6f-46ab-addb-4cd745775375"
      },
      "execution_count": null,
      "outputs": [
        {
          "output_type": "execute_result",
          "data": {
            "text/plain": [
              "('cpu', device(type='cpu'))"
            ]
          },
          "metadata": {},
          "execution_count": 46
        }
      ]
    },
    {
      "cell_type": "code",
      "source": [
        "# if not the same and we wanted to switch the device\n",
        "model_1.to(device) # to change\n",
        "next(model_1.parameters()).device # to display"
      ],
      "metadata": {
        "colab": {
          "base_uri": "https://localhost:8080/"
        },
        "id": "BQ1do2rYQvSk",
        "outputId": "d190e1b0-0699-4852-d834-0441535b0bb3"
      },
      "execution_count": null,
      "outputs": [
        {
          "output_type": "execute_result",
          "data": {
            "text/plain": [
              "device(type='cpu')"
            ]
          },
          "metadata": {},
          "execution_count": 47
        }
      ]
    },
    {
      "cell_type": "markdown",
      "source": [
        "> `When you are dealing with multiple device You have to putt everything one the same device in-order to compute`\n",
        "----\n",
        "**Writing device achnostic code for input data.**\n",
        "* `X_train = X_train.to(device)`\n",
        "* `y_train = y_train.to(device)`\n",
        "* `X_test = X_test.to(device)`\n",
        "* `X_test = X_test.to(device)`\n"
      ],
      "metadata": {
        "id": "rgRxTXJdfP4K"
      }
    },
    {
      "cell_type": "code",
      "source": [
        "model_1.state_dict()"
      ],
      "metadata": {
        "colab": {
          "base_uri": "https://localhost:8080/"
        },
        "id": "bs7QvXSpR8I5",
        "outputId": "c3231bba-26c8-440c-ffe9-091233a28551"
      },
      "execution_count": null,
      "outputs": [
        {
          "output_type": "execute_result",
          "data": {
            "text/plain": [
              "OrderedDict([('linear_layer.weight', tensor([[0.7645]])),\n",
              "             ('linear_layer.bias', tensor([0.8300]))])"
            ]
          },
          "metadata": {},
          "execution_count": 48
        }
      ]
    },
    {
      "cell_type": "markdown",
      "source": [
        "## Train the model\n",
        "for training we need\n",
        "* Loss Function\n",
        "* Optimizer\n",
        "* Training Loop\n",
        "* Testing Loop"
      ],
      "metadata": {
        "id": "UWn28LinQMvW"
      }
    },
    {
      "cell_type": "code",
      "source": [
        "# setting up loss function\n",
        "loss_fnct = nn.L1Loss()\n",
        "\n",
        "# setting up optimizer\n",
        "optimizer = torch.optim.SGD(params= model_1.parameters(), lr=0.01)\n",
        "\n",
        "# let's write a training loop\n",
        "torch.manual_seed(42)\n",
        "epochs = 200\n",
        "\n",
        "for epoch in range(epochs):\n",
        "  model_1.train()\n",
        "  # 1. forward pass\n",
        "  train_pred = model_1(X_train)\n",
        "  # print(train_pred.shape, y_train.shape)\n",
        "  # 2. calculate the loss\n",
        "  train_loss = loss_fnct(train_pred, y_train)\n",
        "  # 3. optimize zero grad\n",
        "  optimizer.zero_grad()\n",
        "  # 4. perform backpropagation\n",
        "  train_loss.backward()\n",
        "  # 5. optimizer\n",
        "  optimizer.step()\n",
        "\n",
        "  #### Testing\n",
        "  model_1.eval()\n",
        "  with torch.inference_mode():\n",
        "    test_pred = model_1(X_test)\n",
        "    test_loss = loss_fnct(test_pred, y_test)\n",
        "\n",
        "    # printing out what's happening\n",
        "    if epoch %10 == 0:\n",
        "      print(f\"epoch : {epoch} | Train Loss : {train_loss} | Test Loss {test_loss}\")"
      ],
      "metadata": {
        "colab": {
          "base_uri": "https://localhost:8080/"
        },
        "id": "WQqryUIUMCoM",
        "outputId": "5b51e129-83c8-4ddf-e70e-aa78a87a9269"
      },
      "execution_count": null,
      "outputs": [
        {
          "output_type": "stream",
          "name": "stdout",
          "text": [
            "epoch : 0 | Train Loss : 0.5551779866218567 | Test Loss 0.5739762187004089\n",
            "epoch : 10 | Train Loss : 0.4399680495262146 | Test Loss 0.4392663538455963\n",
            "epoch : 20 | Train Loss : 0.3247582018375397 | Test Loss 0.30455657839775085\n",
            "epoch : 30 | Train Loss : 0.20954827964305878 | Test Loss 0.16984674334526062\n",
            "epoch : 40 | Train Loss : 0.09433844685554504 | Test Loss 0.03513689711689949\n",
            "epoch : 50 | Train Loss : 0.023886386305093765 | Test Loss 0.04784906655550003\n",
            "epoch : 60 | Train Loss : 0.0199567973613739 | Test Loss 0.04580312222242355\n",
            "epoch : 70 | Train Loss : 0.016517987474799156 | Test Loss 0.0375305712223053\n",
            "epoch : 80 | Train Loss : 0.013089170679450035 | Test Loss 0.029944902285933495\n",
            "epoch : 90 | Train Loss : 0.009653178043663502 | Test Loss 0.02167237363755703\n",
            "epoch : 100 | Train Loss : 0.006215679459273815 | Test Loss 0.014086711220443249\n",
            "epoch : 110 | Train Loss : 0.002787243574857712 | Test Loss 0.005814164876937866\n",
            "epoch : 120 | Train Loss : 0.0012645035749301314 | Test Loss 0.013801807537674904\n",
            "epoch : 130 | Train Loss : 0.0012645035749301314 | Test Loss 0.013801807537674904\n",
            "epoch : 140 | Train Loss : 0.0012645035749301314 | Test Loss 0.013801807537674904\n",
            "epoch : 150 | Train Loss : 0.0012645035749301314 | Test Loss 0.013801807537674904\n",
            "epoch : 160 | Train Loss : 0.0012645035749301314 | Test Loss 0.013801807537674904\n",
            "epoch : 170 | Train Loss : 0.0012645035749301314 | Test Loss 0.013801807537674904\n",
            "epoch : 180 | Train Loss : 0.0012645035749301314 | Test Loss 0.013801807537674904\n",
            "epoch : 190 | Train Loss : 0.0012645035749301314 | Test Loss 0.013801807537674904\n"
          ]
        }
      ]
    },
    {
      "cell_type": "code",
      "source": [
        "model_1.state_dict()"
      ],
      "metadata": {
        "colab": {
          "base_uri": "https://localhost:8080/"
        },
        "id": "pgZgDzu7YD8N",
        "outputId": "a656f55b-f092-4e11-bac8-922af7a2bd48"
      },
      "execution_count": null,
      "outputs": [
        {
          "output_type": "execute_result",
          "data": {
            "text/plain": [
              "OrderedDict([('linear_layer.weight', tensor([[0.6968]])),\n",
              "             ('linear_layer.bias', tensor([0.3025]))])"
            ]
          },
          "metadata": {},
          "execution_count": 50
        }
      ]
    },
    {
      "cell_type": "markdown",
      "source": [
        "## Making into evaluation mode\n",
        "> if we are not training the model instead doing other things like inference making predictions. in that case we should put model into eval mode by `model.eval()`"
      ],
      "metadata": {
        "id": "lA8IAoZJii8B"
      }
    },
    {
      "cell_type": "code",
      "source": [
        "model_1.eval()\n",
        "test_prediction = []\n",
        "# making prediction\n",
        "with torch.inference_mode():\n",
        "  test_pred = model_1(X_test)\n",
        "  test_prediction.append(test_pred)\n",
        "\n",
        "\n",
        "# plotting predictions\n",
        "plot_prediction(prediction= test_prediction)"
      ],
      "metadata": {
        "colab": {
          "base_uri": "https://localhost:8080/",
          "height": 599
        },
        "id": "f-b0lajVkYeK",
        "outputId": "487c3e43-5532-4213-e95d-579396e4c0e4"
      },
      "execution_count": null,
      "outputs": [
        {
          "output_type": "display_data",
          "data": {
            "text/plain": [
              "<Figure size 1000x700 with 1 Axes>"
            ],
            "image/png": "[encoded data removed]"
          },
          "metadata": {}
        }
      ]
    },
    {
      "cell_type": "code",
      "source": [
        "plot_prediction()"
      ],
      "metadata": {
        "colab": {
          "base_uri": "https://localhost:8080/",
          "height": 599
        },
        "id": "Zzf7C8oomGhZ",
        "outputId": "2bc68078-478d-4260-f862-3629d7063e38"
      },
      "execution_count": null,
      "outputs": [
        {
          "output_type": "display_data",
          "data": {
            "text/plain": [
              "<Figure size 1000x700 with 1 Axes>"
            ],
            "image/png": "[encoded data removed]"
          },
          "metadata": {}
        }
      ]
    },
    {
      "cell_type": "markdown",
      "source": [
        "## Saving and loading the model"
      ],
      "metadata": {
        "id": "IEHfjUUhmjE7"
      }
    },
    {
      "cell_type": "code",
      "source": [
        "from pathlib import Path\n",
        "\n",
        "# Create the model's path\n",
        "model_path = Path(\"models\")\n",
        "model_path.mkdir(parents= True, exist_ok= True)\n",
        "\n",
        "# creating model save path\n",
        "model_name = \"02_Pytorch Workflow_model_1.pth\"\n",
        "model_save_name = model_path / model_name\n",
        "\n",
        "print(f\"Saving the model in location {model_save_name}\")\n",
        "# saving it\n",
        "torch.save(obj= model_1.state_dict(), f= model_path/model_name)"
      ],
      "metadata": {
        "colab": {
          "base_uri": "https://localhost:8080/"
        },
        "id": "oKf-0J6ZnSLz",
        "outputId": "6889469c-7808-4ba9-f06b-392f6ff7748d"
      },
      "execution_count": null,
      "outputs": [
        {
          "output_type": "stream",
          "name": "stdout",
          "text": [
            "Saving the model in location models/02_Pytorch Workflow_model_1.pth\n"
          ]
        }
      ]
    },
    {
      "cell_type": "markdown",
      "source": [
        "## Load the model"
      ],
      "metadata": {
        "id": "vAYeKyS7ng4o"
      }
    },
    {
      "cell_type": "code",
      "source": [
        "loaded_model_1 = LinearRegression1V2()\n",
        "print(loaded_model_1.state_dict())\n",
        "loaded_model_1.load_state_dict(torch.load(f=model_path/model_name))\n",
        "loaded_model_1.state_dict()"
      ],
      "metadata": {
        "colab": {
          "base_uri": "https://localhost:8080/"
        },
        "id": "VF4_aVOzqNUI",
        "outputId": "07aa20e9-08c5-4544-b740-74464870539e"
      },
      "execution_count": null,
      "outputs": [
        {
          "output_type": "stream",
          "name": "stdout",
          "text": [
            "OrderedDict([('linear_layer.weight', tensor([[-0.2191]])), ('linear_layer.bias', tensor([0.2018]))])\n"
          ]
        },
        {
          "output_type": "stream",
          "name": "stderr",
          "text": [
            "<ipython-input-79-86d911726a0f>:3: FutureWarning: You are using `torch.load` with `weights_only=False` (the current default value), which uses the default pickle module implicitly. It is possible to construct malicious pickle data which will execute arbitrary code during unpickling (See https://github.com/pytorch/pytorch/blob/main/SECURITY.md#untrusted-models for more details). In a future release, the default value for `weights_only` will be flipped to `True`. This limits the functions that could be executed during unpickling. Arbitrary objects will no longer be allowed to be loaded via this mode unless they are explicitly allowlisted by the user via `torch.serialization.add_safe_globals`. We recommend you start setting `weights_only=True` for any use case where you don't have full control of the loaded file. Please open an issue on GitHub for any issues related to this experimental feature.\n",
            "  loaded_model_1.load_state_dict(torch.load(f=model_path/model_name))\n"
          ]
        },
        {
          "output_type": "execute_result",
          "data": {
            "text/plain": [
              "OrderedDict([('linear_layer.weight', tensor([[0.6968]])),\n",
              "             ('linear_layer.bias', tensor([0.3025]))])"
            ]
          },
          "metadata": {},
          "execution_count": 79
        }
      ]
    },
    {
      "cell_type": "code",
      "source": [],
      "metadata": {
        "id": "YIrX2dp4vM_5"
      },
      "execution_count": null,
      "outputs": []
    }
  ]
}